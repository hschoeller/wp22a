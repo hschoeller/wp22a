{
 "cells": [
  {
   "cell_type": "markdown",
   "metadata": {},
   "source": [
    "# In group variablilty of WRs:\n",
    "- Use ERA5 EDA control member\n",
    "- Calculate composite z map\n",
    "- Calculate variance at each grid point across all WR occurrences\n",
    "- Compare to composites of uncertainty"
   ]
  },
  {
   "cell_type": "code",
   "execution_count": 2,
   "metadata": {
    "vscode": {
     "languageId": "r"
    }
   },
   "outputs": [
    {
     "name": "stderr",
     "output_type": "stream",
     "text": [
      "Linking to GEOS 3.11.1, GDAL 3.6.2, PROJ 9.1.1; sf_use_s2() is TRUE\n",
      "\n",
      "Lade nötiges Paket: maps\n",
      "\n",
      "\n",
      "Attache Paket: ‘rnaturalearthdata’\n",
      "\n",
      "\n",
      "Das folgende Objekt ist maskiert ‘package:rnaturalearth’:\n",
      "\n",
      "    countries110\n",
      "\n",
      "\n",
      "Lade nötiges Paket: abind\n",
      "\n",
      "\n",
      "Attache Paket: ‘dplyr’\n",
      "\n",
      "\n",
      "Die folgenden Objekte sind maskiert von ‘package:stats’:\n",
      "\n",
      "    filter, lag\n",
      "\n",
      "\n",
      "Die folgenden Objekte sind maskiert von ‘package:base’:\n",
      "\n",
      "    intersect, setdiff, setequal, union\n",
      "\n",
      "\n",
      "\n",
      "Attache Paket: ‘purrr’\n",
      "\n",
      "\n",
      "Das folgende Objekt ist maskiert ‘package:maps’:\n",
      "\n",
      "    map\n",
      "\n",
      "\n",
      "\n",
      "Attache Paket: ‘lubridate’\n",
      "\n",
      "\n",
      "Das folgende Objekt ist maskiert ‘package:cowplot’:\n",
      "\n",
      "    stamp\n",
      "\n",
      "\n",
      "Die folgenden Objekte sind maskiert von ‘package:base’:\n",
      "\n",
      "    date, intersect, setdiff, union\n",
      "\n",
      "\n",
      "\n",
      "Attache Paket: ‘data.table’\n",
      "\n",
      "\n",
      "Die folgenden Objekte sind maskiert von ‘package:lubridate’:\n",
      "\n",
      "    hour, isoweek, mday, minute, month, quarter, second, wday, week,\n",
      "    yday, year\n",
      "\n",
      "\n",
      "Das folgende Objekt ist maskiert ‘package:purrr’:\n",
      "\n",
      "    transpose\n",
      "\n",
      "\n",
      "Die folgenden Objekte sind maskiert von ‘package:dplyr’:\n",
      "\n",
      "    between, first, last\n",
      "\n",
      "\n",
      "Lade nötiges Paket: zoo\n",
      "\n",
      "\n",
      "Attache Paket: ‘zoo’\n",
      "\n",
      "\n",
      "Die folgenden Objekte sind maskiert von ‘package:data.table’:\n",
      "\n",
      "    yearmon, yearqtr\n",
      "\n",
      "\n",
      "Die folgenden Objekte sind maskiert von ‘package:base’:\n",
      "\n",
      "    as.Date, as.Date.numeric\n",
      "\n",
      "\n",
      "Successfully loaded changepoint package version 2.3\n",
      " WARNING: From v.2.3 the default method in cpt.* functions has changed from AMOC to PELT.\n",
      " See NEWS for details of all changes.\n",
      "\n"
     ]
    }
   ],
   "source": [
    "source(\"../RScripts/config.r\")\n",
    "source(\"../RScripts/plot_functions.r\")\n",
    "source(\"../RScripts/data_functions.r\")\n",
    "source(\"../RScripts/algo_functions.r\")\n",
    "\n",
    "\n",
    "options(repr.plot.width = 15, repr.plot.height = 10) # Adjust width & height\n"
   ]
  },
  {
   "cell_type": "code",
   "execution_count": 3,
   "metadata": {
    "vscode": {
     "languageId": "r"
    }
   },
   "outputs": [
    {
     "data": {
      "text/html": [
       "<table class=\"dataframe\">\n",
       "<caption>A data.table: 6 × 5</caption>\n",
       "<thead>\n",
       "\t<tr><th scope=col>tsince</th><th scope=col>time</th><th scope=col>wrindex</th><th scope=col>wrname</th><th scope=col>date</th></tr>\n",
       "\t<tr><th scope=col>&lt;int&gt;</th><th scope=col>&lt;chr&gt;</th><th scope=col>&lt;int&gt;</th><th scope=col>&lt;chr&gt;</th><th scope=col>&lt;date&gt;</th></tr>\n",
       "</thead>\n",
       "<tbody>\n",
       "\t<tr><td>403428</td><td>20250108_12</td><td>3</td><td>GL</td><td>2025-01-08</td></tr>\n",
       "\t<tr><td>403452</td><td>20250109_12</td><td>3</td><td>GL</td><td>2025-01-09</td></tr>\n",
       "\t<tr><td>403476</td><td>20250110_12</td><td>3</td><td>GL</td><td>2025-01-10</td></tr>\n",
       "\t<tr><td>403500</td><td>20250111_12</td><td>0</td><td>no</td><td>2025-01-11</td></tr>\n",
       "\t<tr><td>403524</td><td>20250112_12</td><td>0</td><td>no</td><td>2025-01-12</td></tr>\n",
       "\t<tr><td>403548</td><td>20250113_12</td><td>0</td><td>no</td><td>2025-01-13</td></tr>\n",
       "</tbody>\n",
       "</table>\n"
      ],
      "text/latex": [
       "A data.table: 6 × 5\n",
       "\\begin{tabular}{lllll}\n",
       " tsince & time & wrindex & wrname & date\\\\\n",
       " <int> & <chr> & <int> & <chr> & <date>\\\\\n",
       "\\hline\n",
       "\t 403428 & 20250108\\_12 & 3 & GL & 2025-01-08\\\\\n",
       "\t 403452 & 20250109\\_12 & 3 & GL & 2025-01-09\\\\\n",
       "\t 403476 & 20250110\\_12 & 3 & GL & 2025-01-10\\\\\n",
       "\t 403500 & 20250111\\_12 & 0 & no & 2025-01-11\\\\\n",
       "\t 403524 & 20250112\\_12 & 0 & no & 2025-01-12\\\\\n",
       "\t 403548 & 20250113\\_12 & 0 & no & 2025-01-13\\\\\n",
       "\\end{tabular}\n"
      ],
      "text/markdown": [
       "\n",
       "A data.table: 6 × 5\n",
       "\n",
       "| tsince &lt;int&gt; | time &lt;chr&gt; | wrindex &lt;int&gt; | wrname &lt;chr&gt; | date &lt;date&gt; |\n",
       "|---|---|---|---|---|\n",
       "| 403428 | 20250108_12 | 3 | GL | 2025-01-08 |\n",
       "| 403452 | 20250109_12 | 3 | GL | 2025-01-09 |\n",
       "| 403476 | 20250110_12 | 3 | GL | 2025-01-10 |\n",
       "| 403500 | 20250111_12 | 0 | no | 2025-01-11 |\n",
       "| 403524 | 20250112_12 | 0 | no | 2025-01-12 |\n",
       "| 403548 | 20250113_12 | 0 | no | 2025-01-13 |\n",
       "\n"
      ],
      "text/plain": [
       "  tsince time        wrindex wrname date      \n",
       "1 403428 20250108_12 3       GL     2025-01-08\n",
       "2 403452 20250109_12 3       GL     2025-01-09\n",
       "3 403476 20250110_12 3       GL     2025-01-10\n",
       "4 403500 20250111_12 0       no     2025-01-11\n",
       "5 403524 20250112_12 0       no     2025-01-12\n",
       "6 403548 20250113_12 0       no     2025-01-13"
      ]
     },
     "metadata": {},
     "output_type": "display_data"
    }
   ],
   "source": [
    "result <- wrera(\n",
    "    start = \"19500111_00\",\n",
    "    end = \"20250113_21\",\n",
    "    hours = c(\"00\", \"06\", \"12\", \"18\"),\n",
    "    tformat = \"string\",\n",
    "    setup = \"z500anom_1979_2019_on_wrdef_10d_1.0_1979_2019\",\n",
    "    dataset = \"era5\",\n",
    "    basepath = \"../WR_read_example_package/wr_era5_update_1950_latwgt/\"\n",
    ")\n",
    "\n",
    "wr_df <- result$data$LC %>%\n",
    "    filter(grepl(\"12$\", time))\n",
    "wr_df$date <- as.Date(wr_df$time, format = \"%Y%m%d_%H\")\n",
    "tail(wr_df)\n"
   ]
  },
  {
   "cell_type": "code",
   "execution_count": 4,
   "metadata": {
    "vscode": {
     "languageId": "r"
    }
   },
   "outputs": [],
   "source": [
    "# Get the z_control data\n",
    "nc <- nc_open(\"../ens_data/data.nc\")\n",
    "\n",
    "num <- ncvar_get(nc, \"number\")\n",
    "number_idx <- which(num == 0)\n",
    "number_idx <- number_idx[1]\n",
    "lon <- ncvar_get(nc, \"longitude\")\n",
    "lat <- ncvar_get(nc, \"latitude\")\n",
    "time_data <- ncvar_get(nc, \"valid_time\")\n",
    "time_origin <- sub(\n",
    "    \"seconds since \", \"\",\n",
    "    ncatt_get(nc, \"valid_time\", \"units\")$value\n",
    ")\n",
    "time_whole <- as.Date(as.POSIXct(time_data,\n",
    "    origin = time_origin,\n",
    "    tz = \"UTC\"\n",
    "))\n",
    "\n",
    "start_vec <- c(1, 1, 1, number_idx)\n",
    "count_vec <- c(-1, -1, -1, 1)\n",
    "z_control <- ncvar_get(nc, \"z\", start = start_vec, count = count_vec)\n",
    "\n",
    "nc_close(nc)\n"
   ]
  },
  {
   "cell_type": "code",
   "execution_count": null,
   "metadata": {
    "vscode": {
     "languageId": "r"
    }
   },
   "outputs": [],
   "source": [
    "z_comp <- calculate_wr_composites(z_control, time_whole, lon, lat, wr_df,\n",
    "    calculate_variance = TRUE, n_perm = 100, n_cores = 10\n",
    ")\n",
    "z_comp$wr <- z_comp$wrindex\n",
    "z_comp$p_value_adj <- p.adjust(z_comp$pval, method = \"fdr\")\n"
   ]
  },
  {
   "cell_type": "code",
   "execution_count": 29,
   "metadata": {
    "vscode": {
     "languageId": "r"
    }
   },
   "outputs": [
    {
     "name": "stdout",
     "output_type": "stream",
     "text": [
      "Classes ‘data.table’ and 'data.frame':\t271848 obs. of  9 variables:\n",
      " $ z          : num  51293 51288 51285 51280 51276 ...\n",
      " $ lon        : num  -100 -100 -100 -100 -100 -100 -100 -100 -100 -100 ...\n",
      " $ lat        : num  90 89.5 89 88.5 88 87.5 87 86.5 86 85.5 ...\n",
      " $ wrindex    : int  0 0 0 0 0 0 0 0 0 0 ...\n",
      " $ wrname     : chr  \"no\" \"no\" \"no\" \"no\" ...\n",
      " $ z_var      : num  -105635 -109989 -115818 -121659 -127653 ...\n",
      " $ pval       : num  0.79 0.79 0.85 0.87 0.88 0.89 0.9 0.91 0.95 0.96 ...\n",
      " $ wr         : int  0 0 0 0 0 0 0 0 0 0 ...\n",
      " $ p_value_adj: num  1 1 1 1 1 1 1 1 1 1 ...\n",
      " - attr(*, \".internal.selfref\")=<externalptr> \n"
     ]
    }
   ],
   "source": [
    "str(z_comp)\n"
   ]
  },
  {
   "cell_type": "code",
   "execution_count": 30,
   "metadata": {
    "vscode": {
     "languageId": "r"
    }
   },
   "outputs": [
    {
     "name": "stderr",
     "output_type": "stream",
     "text": [
      "Warning message:\n",
      "“\u001b[1m\u001b[22mRaster pixels are placed at uneven horizontal intervals and will be shifted\n",
      "\u001b[36mℹ\u001b[39m Consider using `geom_tile()` instead.”\n",
      "Warning message:\n",
      "“\u001b[1m\u001b[22mRaster pixels are placed at uneven horizontal intervals and will be shifted\n",
      "\u001b[36mℹ\u001b[39m Consider using `geom_tile()` instead.”\n",
      "Warning message:\n",
      "“\u001b[1m\u001b[22mRaster pixels are placed at uneven horizontal intervals and will be shifted\n",
      "\u001b[36mℹ\u001b[39m Consider using `geom_tile()` instead.”\n",
      "Warning message:\n",
      "“\u001b[1m\u001b[22mRaster pixels are placed at uneven horizontal intervals and will be shifted\n",
      "\u001b[36mℹ\u001b[39m Consider using `geom_tile()` instead.”\n",
      "Warning message:\n",
      "“\u001b[1m\u001b[22mRaster pixels are placed at uneven horizontal intervals and will be shifted\n",
      "\u001b[36mℹ\u001b[39m Consider using `geom_tile()` instead.”\n",
      "Warning message:\n",
      "“\u001b[1m\u001b[22mRaster pixels are placed at uneven horizontal intervals and will be shifted\n",
      "\u001b[36mℹ\u001b[39m Consider using `geom_tile()` instead.”\n",
      "Warning message:\n",
      "“\u001b[1m\u001b[22mRaster pixels are placed at uneven horizontal intervals and will be shifted\n",
      "\u001b[36mℹ\u001b[39m Consider using `geom_tile()` instead.”\n",
      "Warning message:\n",
      "“\u001b[1m\u001b[22mRaster pixels are placed at uneven horizontal intervals and will be shifted\n",
      "\u001b[36mℹ\u001b[39m Consider using `geom_tile()` instead.”\n",
      "Warning message:\n",
      "“\u001b[1m\u001b[22mRaster pixels are placed at uneven horizontal intervals and will be shifted\n",
      "\u001b[36mℹ\u001b[39m Consider using `geom_tile()` instead.”\n",
      "Warning message:\n",
      "“\u001b[1m\u001b[22mRaster pixels are placed at uneven horizontal intervals and will be shifted\n",
      "\u001b[36mℹ\u001b[39m Consider using `geom_tile()` instead.”\n",
      "Warning message:\n",
      "“\u001b[1m\u001b[22mRaster pixels are placed at uneven horizontal intervals and will be shifted\n",
      "\u001b[36mℹ\u001b[39m Consider using `geom_tile()` instead.”\n",
      "Warning message:\n",
      "“\u001b[1m\u001b[22mRaster pixels are placed at uneven horizontal intervals and will be shifted\n",
      "\u001b[36mℹ\u001b[39m Consider using `geom_tile()` instead.”\n",
      "Warning message:\n",
      "“\u001b[1m\u001b[22mRaster pixels are placed at uneven horizontal intervals and will be shifted\n",
      "\u001b[36mℹ\u001b[39m Consider using `geom_tile()` instead.”\n",
      "Warning message:\n",
      "“\u001b[1m\u001b[22mRaster pixels are placed at uneven horizontal intervals and will be shifted\n",
      "\u001b[36mℹ\u001b[39m Consider using `geom_tile()` instead.”\n",
      "Warning message:\n",
      "“\u001b[1m\u001b[22mRaster pixels are placed at uneven horizontal intervals and will be shifted\n",
      "\u001b[36mℹ\u001b[39m Consider using `geom_tile()` instead.”\n",
      "Warning message:\n",
      "“\u001b[1m\u001b[22mRaster pixels are placed at uneven horizontal intervals and will be shifted\n",
      "\u001b[36mℹ\u001b[39m Consider using `geom_tile()` instead.”\n",
      "Warning message:\n",
      "“\u001b[1m\u001b[22mRaster pixels are placed at uneven horizontal intervals and will be shifted\n",
      "\u001b[36mℹ\u001b[39m Consider using `geom_tile()` instead.”\n",
      "Warning message:\n",
      "“\u001b[1m\u001b[22mRaster pixels are placed at uneven horizontal intervals and will be shifted\n",
      "\u001b[36mℹ\u001b[39m Consider using `geom_tile()` instead.”\n",
      "Warning message:\n",
      "“\u001b[1m\u001b[22mRaster pixels are placed at uneven horizontal intervals and will be shifted\n",
      "\u001b[36mℹ\u001b[39m Consider using `geom_tile()` instead.”\n",
      "Warning message:\n",
      "“\u001b[1m\u001b[22mRaster pixels are placed at uneven horizontal intervals and will be shifted\n",
      "\u001b[36mℹ\u001b[39m Consider using `geom_tile()` instead.”\n",
      "Warning message:\n",
      "“\u001b[1m\u001b[22mRaster pixels are placed at uneven horizontal intervals and will be shifted\n",
      "\u001b[36mℹ\u001b[39m Consider using `geom_tile()` instead.”\n",
      "Warning message:\n",
      "“\u001b[1m\u001b[22mRaster pixels are placed at uneven horizontal intervals and will be shifted\n",
      "\u001b[36mℹ\u001b[39m Consider using `geom_tile()` instead.”\n",
      "Warning message:\n",
      "“\u001b[1m\u001b[22mRaster pixels are placed at uneven horizontal intervals and will be shifted\n",
      "\u001b[36mℹ\u001b[39m Consider using `geom_tile()` instead.”\n",
      "Warning message:\n",
      "“\u001b[1m\u001b[22mRaster pixels are placed at uneven horizontal intervals and will be shifted\n",
      "\u001b[36mℹ\u001b[39m Consider using `geom_tile()` instead.”\n",
      "Warning message:\n",
      "“\u001b[1m\u001b[22mRaster pixels are placed at uneven horizontal intervals and will be shifted\n",
      "\u001b[36mℹ\u001b[39m Consider using `geom_tile()` instead.”\n",
      "Warning message:\n",
      "“\u001b[1m\u001b[22mRaster pixels are placed at uneven horizontal intervals and will be shifted\n",
      "\u001b[36mℹ\u001b[39m Consider using `geom_tile()` instead.”\n",
      "Warning message:\n",
      "“\u001b[1m\u001b[22mRaster pixels are placed at uneven horizontal intervals and will be shifted\n",
      "\u001b[36mℹ\u001b[39m Consider using `geom_tile()` instead.”\n",
      "Warning message:\n",
      "“\u001b[1m\u001b[22mRaster pixels are placed at uneven horizontal intervals and will be shifted\n",
      "\u001b[36mℹ\u001b[39m Consider using `geom_tile()` instead.”\n"
     ]
    },
    {
     "data": {
      "text/html": [
       "<strong>pdf:</strong> 2"
      ],
      "text/latex": [
       "\\textbf{pdf:} 2"
      ],
      "text/markdown": [
       "**pdf:** 2"
      ],
      "text/plain": [
       "pdf \n",
       "  2 "
      ]
     },
     "metadata": {},
     "output_type": "display_data"
    }
   ],
   "source": [
    "pps <- grid_and_legend(z_comp,\n",
    "    var = \"z_var\", sig_name = \"p_value_adj\", alpha = .05,\n",
    "    clims = c(min(z_comp$z_var, na.rm = TRUE), max(z_comp$z_var, na.rm = TRUE))\n",
    ")\n",
    "p <- combine_plots(pps[[1]], pps[[2]], \"horizontal\")\n",
    "save_plot(p, \"RegimesVarianceLargeH.pdf\", width = 11.5, height = 5.5)\n"
   ]
  },
  {
   "cell_type": "code",
   "execution_count": 32,
   "metadata": {
    "vscode": {
     "languageId": "r"
    }
   },
   "outputs": [
    {
     "name": "stderr",
     "output_type": "stream",
     "text": [
      "\u001b[1m\u001b[22m`stat_bin()` using `bins = 30`. Pick better value with `binwidth`.\n"
     ]
    },
    {
     "data": {
      "image/png": "[encoded data removed]",
      "text/plain": [
       "plot without title"
      ]
     },
     "metadata": {
      "image/png": {
       "height": 600,
       "width": 900
      }
     },
     "output_type": "display_data"
    }
   ],
   "source": [
    "ggplot(z_comp, aes(x = p_value_adj)) +\n",
    "    geom_histogram()\n"
   ]
  }
 ],
 "metadata": {
  "kernelspec": {
   "display_name": "wp22aKernel",
   "language": "R",
   "name": "wp22arkernel"
  },
  "language_info": {
   "codemirror_mode": "r",
   "file_extension": ".r",
   "mimetype": "text/x-r-source",
   "name": "R",
   "pygments_lexer": "r",
   "version": "4.2.2"
  }
 },
 "nbformat": 4,
 "nbformat_minor": 2
}
