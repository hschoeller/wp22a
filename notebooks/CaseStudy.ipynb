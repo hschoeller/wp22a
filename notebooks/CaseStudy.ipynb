{
 "cells": [
  {
   "cell_type": "markdown",
   "metadata": {},
   "source": [
    "# Possible thesis topic: Case study of a blocking in terms of EDA\n",
    "## TODO:\n",
    "- select case: 01-05-2017 06:00 UTC - 14-05-2017 00:00 UTC North Atlantic\n",
    "- plot Var(EDA) gh500 field\n",
    "- prepare syn_cond plot\n",
    "    - obtain relevant ERA5 data\n",
    "- investigate other fields\n",
    "- check out uncertainty plots on ecmwf page (https://intraplots.ecmwf.int/packages/diagnostics/)"
   ]
  },
  {
   "cell_type": "code",
   "execution_count": 14,
   "metadata": {
    "vscode": {
     "languageId": "r"
    }
   },
   "outputs": [
    {
     "name": "stderr",
     "output_type": "stream",
     "text": [
      "Linking to GEOS 3.11.1, GDAL 3.6.2, PROJ 9.1.1; sf_use_s2() is TRUE\n",
      "\n",
      "Lade nötiges Paket: maps\n",
      "\n",
      "\n",
      "Attache Paket: ‘rnaturalearthdata’\n",
      "\n",
      "\n",
      "Das folgende Objekt ist maskiert ‘package:rnaturalearth’:\n",
      "\n",
      "    countries110\n",
      "\n",
      "\n",
      "\n",
      "Attache Paket: ‘dplyr’\n",
      "\n",
      "\n",
      "Die folgenden Objekte sind maskiert von ‘package:stats’:\n",
      "\n",
      "    filter, lag\n",
      "\n",
      "\n",
      "Die folgenden Objekte sind maskiert von ‘package:base’:\n",
      "\n",
      "    intersect, setdiff, setequal, union\n",
      "\n",
      "\n",
      "\n",
      "Attache Paket: ‘purrr’\n",
      "\n",
      "\n",
      "Das folgende Objekt ist maskiert ‘package:maps’:\n",
      "\n",
      "    map\n",
      "\n",
      "\n",
      "\n",
      "Attache Paket: ‘lubridate’\n",
      "\n",
      "\n",
      "Die folgenden Objekte sind maskiert von ‘package:base’:\n",
      "\n",
      "    date, intersect, setdiff, union\n",
      "\n",
      "\n",
      "Lade nötiges Paket: zoo\n",
      "\n",
      "\n",
      "Attache Paket: ‘zoo’\n",
      "\n",
      "\n",
      "Die folgenden Objekte sind maskiert von ‘package:base’:\n",
      "\n",
      "    as.Date, as.Date.numeric\n",
      "\n",
      "\n",
      "Successfully loaded changepoint package version 2.3\n",
      " WARNING: From v.2.3 the default method in cpt.* functions has changed from AMOC to PELT.\n",
      " See NEWS for details of all changes.\n",
      "\n"
     ]
    }
   ],
   "source": [
    "source(\"../RScripts/config.r\")\n",
    "source(\"../RScripts/plot_functions.r\")\n",
    "source(\"../RScripts/data_functions.r\")\n",
    "source(\"../RScripts/algo_functions.r\")\n",
    "\n",
    "options(repr.plot.width = 15, repr.plot.height = 10) # Adjust width & height\n"
   ]
  },
  {
   "cell_type": "code",
   "execution_count": 15,
   "metadata": {
    "vscode": {
     "languageId": "r"
    }
   },
   "outputs": [],
   "source": [
    "data_path <- \"/net/scratch/schoelleh96/WP2/WP2.2a/ens_data/\"\n",
    "file_name <- \"spread_2017.nc\"\n",
    "library(ncdf4)\n"
   ]
  },
  {
   "cell_type": "code",
   "execution_count": 16,
   "metadata": {
    "vscode": {
     "languageId": "r"
    }
   },
   "outputs": [],
   "source": [
    "nc <- nc_open(\"/net/scratch/schoelleh96/WP2/WP2.2a/ens_data/spread_2017.nc\")\n",
    "z_data <- ncvar_get(nc, \"z\")\n",
    "\n",
    "lat <- ncvar_get(nc, \"latitude\")\n",
    "lon <- ncvar_get(nc, \"longitude\")\n",
    "time_data <- ncvar_get(nc, \"valid_time\")\n",
    "time_origin <- sub(\n",
    "    \"seconds since \", \"\",\n",
    "    ncatt_get(nc, \"valid_time\", \"units\")$value\n",
    ")\n",
    "time <- as.Date(as.POSIXct(time_data,\n",
    "    origin = time_origin,\n",
    "    tz = \"UTC\"\n",
    "))\n"
   ]
  },
  {
   "cell_type": "code",
   "execution_count": 18,
   "metadata": {
    "vscode": {
     "languageId": "r"
    }
   },
   "outputs": [],
   "source": [
    "# Define start and end dates\n",
    "start_date <- as.Date(\"2017-05-01\")\n",
    "end_date <- as.Date(\"2017-05-15\")\n",
    "\n",
    "# Find indices corresponding to the desired time period\n",
    "time_indices <- which(time >= start_date & time <= end_date)\n",
    "\n",
    "# Loop through each time step in the subset\n",
    "for (i in time_indices) {\n",
    "    # Extract z data for the current time step (assuming z_data dimensions: [lon, lat, time])\n",
    "    z_slice <- z_data[, , i]\n",
    "\n",
    "    # Create a data frame with lon, lat, and the z values for this time step\n",
    "    grid_df <- expand.grid(lon = lon, lat = lat)\n",
    "    grid_df$log_z <- as.vector(log(z_slice))\n",
    "\n",
    "    # Generate a plot for the current time step using your plot_spatial function\n",
    "    p <- plot_spatial(\n",
    "        data = grid_df,\n",
    "        var_name = \"log_z\",\n",
    "        legend_name = \"log_z\",\n",
    "        title = paste(\"log(var(gh500)) on\", time[i])\n",
    "    )\n",
    "\n",
    "    # Create a filename for the current plot (e.g., \"z_20170501.pdf\")\n",
    "    filename <- paste0(\"../figs/z_\", format(time[i], \"%Y%m%d\"), \".pdf\")\n",
    "\n",
    "    # Save the plot using the provided save_plot function\n",
    "    save_plot(p, filename)\n",
    "}\n"
   ]
  }
 ],
 "metadata": {
  "kernelspec": {
   "display_name": "wp22aKernel",
   "language": "R",
   "name": "wp22arkernel"
  },
  "language_info": {
   "codemirror_mode": "r",
   "file_extension": ".r",
   "mimetype": "text/x-r-source",
   "name": "R",
   "pygments_lexer": "r",
   "version": "4.2.2"
  }
 },
 "nbformat": 4,
 "nbformat_minor": 2
}
