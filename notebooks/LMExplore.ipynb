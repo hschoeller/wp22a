{
 "cells": [
  {
   "cell_type": "markdown",
   "metadata": {},
   "source": [
    "# Evaluate grid point wise estimated lms"
   ]
  },
  {
   "cell_type": "markdown",
   "metadata": {},
   "source": [
    "## Steps\n",
    "- develop some functions/classes to make process efficient\n",
    "- investigate key quantities of interest\n",
    "- investigate spatial and temporal characteristics\n",
    "\n",
    "## Guiding questions:\n",
    "1. Which areas profitted most from specific changes in observational suite?\n",
    "    - plot segment and segment interaction terms on grid\n",
    "    - for each grid point, plot which coefficient is largest\n",
    "    - show overall change in log-variance estimated (how to do this properly?)\n",
    "2. Which areas are most affected by seasonal changes?\n",
    "    - plot season coefficients for each grid point\n",
    "3. Investigate land-ocean contrast\n",
    "    - use land-sea mask to differentiate and use scatter plots of relevant\n",
    "    coefficients"
   ]
  },
  {
   "cell_type": "markdown",
   "metadata": {},
   "source": [
    "## Some classes and functions"
   ]
  },
  {
   "cell_type": "code",
   "execution_count": 1,
   "metadata": {
    "vscode": {
     "languageId": "r"
    }
   },
   "outputs": [
    {
     "name": "stderr",
     "output_type": "stream",
     "text": [
      "\n",
      "Attache Paket: ‘dplyr’\n",
      "\n",
      "\n",
      "Die folgenden Objekte sind maskiert von ‘package:stats’:\n",
      "\n",
      "    filter, lag\n",
      "\n",
      "\n",
      "Die folgenden Objekte sind maskiert von ‘package:base’:\n",
      "\n",
      "    intersect, setdiff, setequal, union\n",
      "\n",
      "\n",
      "Linking to GEOS 3.11.1, GDAL 3.6.2, PROJ 9.1.1; sf_use_s2() is TRUE\n",
      "\n",
      "Lade nötiges Paket: viridisLite\n",
      "\n",
      "Warning message in mean.default(f):\n",
      "“Argument ist weder numerisch noch boolesch: gebe NA zurück”\n"
     ]
    },
    {
     "ename": "ERROR",
     "evalue": "\u001b[1m\u001b[33mError\u001b[39m in `map()` at purrr/R/superseded-map-df.R:68:3:\u001b[22m\n\u001b[1m\u001b[22m\u001b[36mℹ\u001b[39m In index: 1.\n\u001b[1mCaused by error in `var()`:\u001b[22m\n\u001b[33m!\u001b[39m 'x' ist NULL\n",
     "output_type": "error",
     "traceback": [
      "\u001b[1m\u001b[33mError\u001b[39m in `map()` at purrr/R/superseded-map-df.R:68:3:\u001b[22m\n\u001b[1m\u001b[22m\u001b[36mℹ\u001b[39m In index: 1.\n\u001b[1mCaused by error in `var()`:\u001b[22m\n\u001b[33m!\u001b[39m 'x' ist NULL\nTraceback:\n",
      "1. purrr::map_dfr(lm_files, ~{\n .     lm_obj <- readRDS(.x)\n .     model_summary <- broom::glance(lm_obj)\n .     coef_table <- broom::tidy(lm_obj)\n .     tibble::tibble(lat = lats[which(lm_files == .x)], lon = lons[which(lm_files == \n .         .x)], r_squared = model_summary$r.squared, adj_r_squared = model_summary$adj.r.squared, \n .         sigma = model_summary$sigma, aic = model_summary$AIC, \n .         bic = model_summary$BIC, f_statistic = model_summary$statistic, \n .         f_p_value = model_summary$p.value, coefficients = list(coef_table$estimate), \n .         p_values = list(coef_table$p.value))\n . })",
      "2. map(.x, .f, ...)   # at line 68 of file /tmp/RtmpkFI0Kl/renv-package-new-100642b503f80/purrr/R/superseded-map-df.R",
      "3. map_(\"list\", .x, .f, ..., .progress = .progress)   # at line 129 of file /tmp/RtmpkFI0Kl/renv-package-new-100642b503f80/purrr/R/map.R",
      "4. with_indexed_errors(i = i, names = names, error_call = .purrr_error_call, \n .     call_with_cleanup(map_impl, environment(), .type, .progress, \n .         n, names, i))   # at line 174-179 of file /tmp/RtmpkFI0Kl/renv-package-new-100642b503f80/purrr/R/map.R",
      "5. withCallingHandlers(expr, error = function(cnd) {\n .     if (i == 0L) {\n .     }\n .     else {\n .         message <- c(i = \"In index: {i}.\")\n .         if (!is.null(names) && !is.na(names[[i]]) && names[[i]] != \n .             \"\") {\n .             name <- names[[i]]\n .             message <- c(message, i = \"With name: {name}.\")\n .         }\n .         else {\n .             name <- NULL\n .         }\n .         cli::cli_abort(message, location = i, name = name, parent = cnd, \n .             call = error_call, class = \"purrr_error_indexed\")\n .     }\n . })   # at line 201-225 of file /tmp/RtmpkFI0Kl/renv-package-new-100642b503f80/purrr/R/map.R",
      "6. call_with_cleanup(map_impl, environment(), .type, .progress, \n .     n, names, i)   # at line 174-179 of file /tmp/RtmpkFI0Kl/renv-package-new-100642b503f80/purrr/R/map.R",
      "7. .f(.x[[i]], ...)",
      "8. broom::glance(lm_obj)",
      "9. glance.lm(lm_obj)   # at line 17 of file /tmp/RtmpkFI0Kl/renv-package-new-1006475b42a96/generics/R/glance.R",
      "10. nrow(summary(x)$coefficients)   # at line 213 of file /tmp/RtmpkFI0Kl/renv-package-new-1006450fd8d5d/broom/R/stats-lm-tidiers.R",
      "11. summary(x)   # at line 213 of file /tmp/RtmpkFI0Kl/renv-package-new-1006450fd8d5d/broom/R/stats-lm-tidiers.R",
      "12. summary.lm(x)",
      "13. var(c(f))",
      "14. .handleSimpleError(function (cnd) \n  . {\n  .     if (i == 0L) {\n  .     }\n  .     else {\n  .         message <- c(i = \"In index: {i}.\")\n  .         if (!is.null(names) && !is.na(names[[i]]) && names[[i]] != \n  .             \"\") {\n  .             name <- names[[i]]\n  .             message <- c(message, i = \"With name: {name}.\")\n  .         }\n  .         else {\n  .             name <- NULL\n  .         }\n  .         cli::cli_abort(message, location = i, name = name, parent = cnd, \n  .             call = error_call, class = \"purrr_error_indexed\")\n  .     }\n  . }, \"'x' ist NULL\", base::quote(var(c(f))))",
      "15. h(simpleError(msg, call))",
      "16. cli::cli_abort(message, location = i, name = name, parent = cnd, \n  .     call = error_call, class = \"purrr_error_indexed\")   # at line 215-222 of file /tmp/RtmpkFI0Kl/renv-package-new-100642b503f80/purrr/R/map.R",
      "17. rlang::abort(message, ..., call = call, use_cli_format = TRUE, \n  .     .frame = .frame)   # at line 45-51 of file /tmp/RtmpkFI0Kl/renv-package-new-1006411aab8f2/cli/R/rlang.R",
      "18. signal_abort(cnd, .file)   # at line 390 of file /tmp/RtmpkFI0Kl/renv-package-new-100645508ef7d/rlang/R/cnd-abort.R",
      "19. signalCondition(cnd)   # at line 861 of file /tmp/RtmpkFI0Kl/renv-package-new-100645508ef7d/rlang/R/cnd-abort.R"
     ]
    }
   ],
   "source": [
    "source(\"../RScripts/config.r\")\n",
    "source(\"../RScripts/plot_functions.r\")\n",
    "\n",
    "# Load all models\n",
    "lm_data <- load_lm_objects()\n"
   ]
  },
  {
   "cell_type": "code",
   "execution_count": 10,
   "metadata": {
    "vscode": {
     "languageId": "r"
    }
   },
   "outputs": [],
   "source": [
    "lm_files <- list.files(LM_DIR, pattern = \"^lm.*\\\\.Rds\", full.names = TRUE)\n",
    "coords <- stringr::str_extract_all(lm_files, \"-?\\\\d+\\\\.?\\\\d*\",\n",
    "    simplify = TRUE\n",
    ")\n",
    "lats <- as.numeric(coords[, 1])\n",
    "lons <- as.numeric(coords[, 2])"
   ]
  },
  {
   "cell_type": "code",
   "execution_count": 14,
   "metadata": {
    "vscode": {
     "languageId": "r"
    }
   },
   "outputs": [
    {
     "data": {
      "text/html": [
       "<style>\n",
       ".dl-inline {width: auto; margin:0; padding: 0}\n",
       ".dl-inline>dt, .dl-inline>dd {float: none; width: auto; display: inline-block}\n",
       ".dl-inline>dt::after {content: \":\\0020\"; padding-right: .5ex}\n",
       ".dl-inline>dt:not(:first-of-type) {padding-left: .5ex}\n",
       "</style><dl class=dl-inline><dt>segment1</dt><dd>314.511839803232</dd><dt>segment2</dt><dd>302.465164600287</dd><dt>segment3</dt><dd>41.5181537070736</dd><dt>segment4</dt><dd>24.1922314148945</dd><dt>segment5</dt><dd>57.6989398719338</dd><dt>year</dt><dd>-0.157726583439201</dd><dt>sin_doy</dt><dd>40.7884207576066</dd><dt>cos_doy</dt><dd>135.06230023755</dd><dt>segment2:year</dt><dd>0.0061707602539352</dd><dt>segment3:year</dt><dd>0.139649148718134</dd><dt>segment4:year</dt><dd>0.148232618919896</dd><dt>segment5:year</dt><dd>0.131362272056064</dd><dt>segment2:sin_doy</dt><dd>-8.92145171500611</dd><dt>segment3:sin_doy</dt><dd>-40.9701903863418</dd><dt>segment4:sin_doy</dt><dd>-29.0316957348949</dd><dt>segment5:sin_doy</dt><dd>-32.3590396443693</dd><dt>segment2:cos_doy</dt><dd>-40.1643167508683</dd><dt>segment3:cos_doy</dt><dd>-140.662712042953</dd><dt>segment4:cos_doy</dt><dd>-128.453717500465</dd><dt>segment5:cos_doy</dt><dd>-123.281063014289</dd><dt>year:sin_doy</dt><dd>-0.0208950876864783</dd><dt>year:cos_doy</dt><dd>-0.0693176088075987</dd><dt>segment2:year:sin_doy</dt><dd>0.00457659629324517</dd><dt>segment3:year:sin_doy</dt><dd>0.0209921588265268</dd><dt>segment4:year:sin_doy</dt><dd>0.0149922888237134</dd><dt>segment5:year:sin_doy</dt><dd>0.0166842109710832</dd><dt>segment2:year:cos_doy</dt><dd>0.02070365202954</dd><dt>segment3:year:cos_doy</dt><dd>0.0720960331517961</dd><dt>segment4:year:cos_doy</dt><dd>0.0659092301496023</dd><dt>segment5:year:cos_doy</dt><dd>0.0632811702456593</dd></dl>\n"
      ],
      "text/latex": [
       "\\begin{description*}\n",
       "\\item[segment1] 314.511839803232\n",
       "\\item[segment2] 302.465164600287\n",
       "\\item[segment3] 41.5181537070736\n",
       "\\item[segment4] 24.1922314148945\n",
       "\\item[segment5] 57.6989398719338\n",
       "\\item[year] -0.157726583439201\n",
       "\\item[sin\\textbackslash{}\\_doy] 40.7884207576066\n",
       "\\item[cos\\textbackslash{}\\_doy] 135.06230023755\n",
       "\\item[segment2:year] 0.0061707602539352\n",
       "\\item[segment3:year] 0.139649148718134\n",
       "\\item[segment4:year] 0.148232618919896\n",
       "\\item[segment5:year] 0.131362272056064\n",
       "\\item[segment2:sin\\textbackslash{}\\_doy] -8.92145171500611\n",
       "\\item[segment3:sin\\textbackslash{}\\_doy] -40.9701903863418\n",
       "\\item[segment4:sin\\textbackslash{}\\_doy] -29.0316957348949\n",
       "\\item[segment5:sin\\textbackslash{}\\_doy] -32.3590396443693\n",
       "\\item[segment2:cos\\textbackslash{}\\_doy] -40.1643167508683\n",
       "\\item[segment3:cos\\textbackslash{}\\_doy] -140.662712042953\n",
       "\\item[segment4:cos\\textbackslash{}\\_doy] -128.453717500465\n",
       "\\item[segment5:cos\\textbackslash{}\\_doy] -123.281063014289\n",
       "\\item[year:sin\\textbackslash{}\\_doy] -0.0208950876864783\n",
       "\\item[year:cos\\textbackslash{}\\_doy] -0.0693176088075987\n",
       "\\item[segment2:year:sin\\textbackslash{}\\_doy] 0.00457659629324517\n",
       "\\item[segment3:year:sin\\textbackslash{}\\_doy] 0.0209921588265268\n",
       "\\item[segment4:year:sin\\textbackslash{}\\_doy] 0.0149922888237134\n",
       "\\item[segment5:year:sin\\textbackslash{}\\_doy] 0.0166842109710832\n",
       "\\item[segment2:year:cos\\textbackslash{}\\_doy] 0.02070365202954\n",
       "\\item[segment3:year:cos\\textbackslash{}\\_doy] 0.0720960331517961\n",
       "\\item[segment4:year:cos\\textbackslash{}\\_doy] 0.0659092301496023\n",
       "\\item[segment5:year:cos\\textbackslash{}\\_doy] 0.0632811702456593\n",
       "\\end{description*}\n"
      ],
      "text/markdown": [
       "segment1\n",
       ":   314.511839803232segment2\n",
       ":   302.465164600287segment3\n",
       ":   41.5181537070736segment4\n",
       ":   24.1922314148945segment5\n",
       ":   57.6989398719338year\n",
       ":   -0.157726583439201sin_doy\n",
       ":   40.7884207576066cos_doy\n",
       ":   135.06230023755segment2:year\n",
       ":   0.0061707602539352segment3:year\n",
       ":   0.139649148718134segment4:year\n",
       ":   0.148232618919896segment5:year\n",
       ":   0.131362272056064segment2:sin_doy\n",
       ":   -8.92145171500611segment3:sin_doy\n",
       ":   -40.9701903863418segment4:sin_doy\n",
       ":   -29.0316957348949segment5:sin_doy\n",
       ":   -32.3590396443693segment2:cos_doy\n",
       ":   -40.1643167508683segment3:cos_doy\n",
       ":   -140.662712042953segment4:cos_doy\n",
       ":   -128.453717500465segment5:cos_doy\n",
       ":   -123.281063014289year:sin_doy\n",
       ":   -0.0208950876864783year:cos_doy\n",
       ":   -0.0693176088075987segment2:year:sin_doy\n",
       ":   0.00457659629324517segment3:year:sin_doy\n",
       ":   0.0209921588265268segment4:year:sin_doy\n",
       ":   0.0149922888237134segment5:year:sin_doy\n",
       ":   0.0166842109710832segment2:year:cos_doy\n",
       ":   0.02070365202954segment3:year:cos_doy\n",
       ":   0.0720960331517961segment4:year:cos_doy\n",
       ":   0.0659092301496023segment5:year:cos_doy\n",
       ":   0.0632811702456593\n",
       "\n"
      ],
      "text/plain": [
       "             segment1              segment2              segment3 \n",
       "         3.145118e+02          3.024652e+02          4.151815e+01 \n",
       "             segment4              segment5                  year \n",
       "         2.419223e+01          5.769894e+01         -1.577266e-01 \n",
       "              sin_doy               cos_doy         segment2:year \n",
       "         4.078842e+01          1.350623e+02          6.170760e-03 \n",
       "        segment3:year         segment4:year         segment5:year \n",
       "         1.396491e-01          1.482326e-01          1.313623e-01 \n",
       "     segment2:sin_doy      segment3:sin_doy      segment4:sin_doy \n",
       "        -8.921452e+00         -4.097019e+01         -2.903170e+01 \n",
       "     segment5:sin_doy      segment2:cos_doy      segment3:cos_doy \n",
       "        -3.235904e+01         -4.016432e+01         -1.406627e+02 \n",
       "     segment4:cos_doy      segment5:cos_doy          year:sin_doy \n",
       "        -1.284537e+02         -1.232811e+02         -2.089509e-02 \n",
       "         year:cos_doy segment2:year:sin_doy segment3:year:sin_doy \n",
       "        -6.931761e-02          4.576596e-03          2.099216e-02 \n",
       "segment4:year:sin_doy segment5:year:sin_doy segment2:year:cos_doy \n",
       "         1.499229e-02          1.668421e-02          2.070365e-02 \n",
       "segment3:year:cos_doy segment4:year:cos_doy segment5:year:cos_doy \n",
       "         7.209603e-02          6.590923e-02          6.328117e-02 "
      ]
     },
     "metadata": {},
     "output_type": "display_data"
    }
   ],
   "source": [
    "lm1 <- readRDS(lm_files[1])\n",
    "coef(lm1)"
   ]
  },
  {
   "cell_type": "code",
   "execution_count": 11,
   "metadata": {
    "vscode": {
     "languageId": "r"
    }
   },
   "outputs": [
    {
     "name": "stderr",
     "output_type": "stream",
     "text": [
      "Warning message in mean.default(f):\n",
      "“Argument ist weder numerisch noch boolesch: gebe NA zurück”\n"
     ]
    },
    {
     "ename": "ERROR",
     "evalue": "\u001b[1m\u001b[33mError\u001b[39m in `map()` at purrr/R/superseded-map-df.R:68:3:\u001b[22m\n\u001b[1m\u001b[22m\u001b[36mℹ\u001b[39m In index: 1.\n\u001b[1mCaused by error in `var()`:\u001b[22m\n\u001b[33m!\u001b[39m 'x' ist NULL\n",
     "output_type": "error",
     "traceback": [
      "\u001b[1m\u001b[33mError\u001b[39m in `map()` at purrr/R/superseded-map-df.R:68:3:\u001b[22m\n\u001b[1m\u001b[22m\u001b[36mℹ\u001b[39m In index: 1.\n\u001b[1mCaused by error in `var()`:\u001b[22m\n\u001b[33m!\u001b[39m 'x' ist NULL\nTraceback:\n",
      "1. mutate(., lat = lats, lon = lons)   # at line 136 of file /tmp/RtmpkFI0Kl/renv-package-new-1006414631fba/magrittr/R/pipe.R",
      "2. map_dfr(lm_files, extract_lm_params)   # at line 146 of file /tmp/RtmpkFI0Kl/renv-package-new-100645e420999/dplyr/R/mutate.R",
      "3. map(.x, .f, ...)   # at line 68 of file /tmp/RtmpkFI0Kl/renv-package-new-100642b503f80/purrr/R/superseded-map-df.R",
      "4. map_(\"list\", .x, .f, ..., .progress = .progress)   # at line 129 of file /tmp/RtmpkFI0Kl/renv-package-new-100642b503f80/purrr/R/map.R",
      "5. with_indexed_errors(i = i, names = names, error_call = .purrr_error_call, \n .     call_with_cleanup(map_impl, environment(), .type, .progress, \n .         n, names, i))   # at line 174-179 of file /tmp/RtmpkFI0Kl/renv-package-new-100642b503f80/purrr/R/map.R",
      "6. withCallingHandlers(expr, error = function(cnd) {\n .     if (i == 0L) {\n .     }\n .     else {\n .         message <- c(i = \"In index: {i}.\")\n .         if (!is.null(names) && !is.na(names[[i]]) && names[[i]] != \n .             \"\") {\n .             name <- names[[i]]\n .             message <- c(message, i = \"With name: {name}.\")\n .         }\n .         else {\n .             name <- NULL\n .         }\n .         cli::cli_abort(message, location = i, name = name, parent = cnd, \n .             call = error_call, class = \"purrr_error_indexed\")\n .     }\n . })   # at line 201-225 of file /tmp/RtmpkFI0Kl/renv-package-new-100642b503f80/purrr/R/map.R",
      "7. call_with_cleanup(map_impl, environment(), .type, .progress, \n .     n, names, i)   # at line 174-179 of file /tmp/RtmpkFI0Kl/renv-package-new-100642b503f80/purrr/R/map.R",
      "8. .f(.x[[i]], ...)",
      "9. summary(lm_obj)",
      "10. summary.lm(lm_obj)",
      "11. var(c(f))",
      "12. .handleSimpleError(function (cnd) \n  . {\n  .     if (i == 0L) {\n  .     }\n  .     else {\n  .         message <- c(i = \"In index: {i}.\")\n  .         if (!is.null(names) && !is.na(names[[i]]) && names[[i]] != \n  .             \"\") {\n  .             name <- names[[i]]\n  .             message <- c(message, i = \"With name: {name}.\")\n  .         }\n  .         else {\n  .             name <- NULL\n  .         }\n  .         cli::cli_abort(message, location = i, name = name, parent = cnd, \n  .             call = error_call, class = \"purrr_error_indexed\")\n  .     }\n  . }, \"'x' ist NULL\", base::quote(var(c(f))))",
      "13. h(simpleError(msg, call))",
      "14. cli::cli_abort(message, location = i, name = name, parent = cnd, \n  .     call = error_call, class = \"purrr_error_indexed\")   # at line 215-222 of file /tmp/RtmpkFI0Kl/renv-package-new-100642b503f80/purrr/R/map.R",
      "15. rlang::abort(message, ..., call = call, use_cli_format = TRUE, \n  .     .frame = .frame)   # at line 45-51 of file /tmp/RtmpkFI0Kl/renv-package-new-1006411aab8f2/cli/R/rlang.R",
      "16. signal_abort(cnd, .file)   # at line 390 of file /tmp/RtmpkFI0Kl/renv-package-new-100645508ef7d/rlang/R/cnd-abort.R",
      "17. signalCondition(cnd)   # at line 861 of file /tmp/RtmpkFI0Kl/renv-package-new-100645508ef7d/rlang/R/cnd-abort.R"
     ]
    }
   ],
   "source": [
    "extract_lm_params <- function(file) {\n",
    "    lm_obj <- readRDS(file)\n",
    "    \n",
    "    # Extract summary statistics\n",
    "    lm_summary <- summary(lm_obj)\n",
    "    \n",
    "    tibble(\n",
    "        coefficients = list(coef(lm_obj)),  # Store as list-column for flexibility\n",
    "        df_residual = lm_summary$df[2],\n",
    "        r_squared = lm_summary$r.squared,\n",
    "        adj_r_squared = lm_summary$adj.r.squared,\n",
    "        sigma = lm_summary$sigma,\n",
    "        fstatistic = list(lm_summary$fstatistic)  # Store as list to preserve structure\n",
    "    )\n",
    "}\n",
    "\n",
    "# Process all models and combine with coordinates\n",
    "lm_data <- map_dfr(lm_files, extract_lm_params) %>%\n",
    "    mutate(lat = lats, lon = lons)\n",
    "\n",
    "# Print or inspect the final dataframe\n",
    "print(lm_data)"
   ]
  },
  {
   "cell_type": "code",
   "execution_count": null,
   "metadata": {
    "vscode": {
     "languageId": "r"
    }
   },
   "outputs": [],
   "source": [
    "# Extract segment coefficients (adjust regex for your model terms)\n",
    "segment_coefs <- lm_data %>%\n",
    "    mutate(\n",
    "        segment_effect = purrr::map_dbl(coefficients, ~ .x[grepl(\"segment\", names(.x))][1]),\n",
    "        segment_p = purrr::map_dbl(p_values, ~ .x[grepl(\"segment\", names(.x))][1])\n",
    "    ) %>%\n",
    "    mutate(significant = ifelse(segment_p < 0.05, \"Yes\", \"No\"))\n",
    "\n",
    "# Generate plot\n",
    "p <- plot_spatial(segment_coefs, \"segment_effect\", \"Impact of Observation System Jumps\") +\n",
    "    geom_point(\n",
    "        data = filter(segment_coefs, significant == \"Yes\"),\n",
    "        aes(x = lon, y = lat), size = 0.1, color = \"white\"\n",
    "    )\n",
    "\n",
    "save_publication_plot(p, \"segment_effects.pdf\")\n"
   ]
  }
 ],
 "metadata": {
  "kernelspec": {
   "display_name": "wp22aKernel",
   "language": "R",
   "name": "wp22arkernel"
  },
  "language_info": {
   "codemirror_mode": "r",
   "file_extension": ".r",
   "mimetype": "text/x-r-source",
   "name": "R",
   "pygments_lexer": "r",
   "version": "4.2.2"
  }
 },
 "nbformat": 4,
 "nbformat_minor": 2
}
